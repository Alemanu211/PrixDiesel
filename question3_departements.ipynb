{
 "cells": [
  {
   "cell_type": "code",
   "execution_count": null,
   "id": "aa8ad1be",
   "metadata": {},
   "outputs": [],
   "source": [
    "import folium\n",
    "import data.DownloadData as DD\n",
    "import data.DataSorting as DS\n",
    "import json\n",
    "import geojson\n",
    "from urllib.request import urlopen\n",
    "from geojson_utils import centroid"
   ]
  },
  {
   "cell_type": "code",
   "execution_count": null,
   "id": "f3a69d99",
   "metadata": {},
   "outputs": [],
   "source": [
    "# récupération des contours départementaux\n",
    "with urlopen('https://raw.githubusercontent.com/gregoiredavid/france-geojson/master/departements-version-simplifiee.geojson') as f:\n",
    "    departements = geojson.load(f)"
   ]
  },
  {
   "cell_type": "code",
   "execution_count": null,
   "id": "a8e7ccbc",
   "metadata": {},
   "outputs": [],
   "source": [
    "# récupération des données sur les stations-service\n",
    "DD.get_ten_Mins_Data()\n",
    "DD.get_dailyData()\n",
    "\n",
    "# on récupère le J-5 pour observer la variation \n",
    "chaine = DD.get_chaine()\n",
    "\n",
    "# calcul des prix moyen pour les départements\n",
    "dep_prices = DS.DictDepartements(\"PrixCarburants_instantane.xml\")\n",
    "dep_prices_B = DS.DictDepartements(\"PrixCarburants_quotidien_\" + chaine + \".xml\")\n",
    "\n",
    "# calcul des variations\n",
    "variations_dep = {key: dep_prices[key] - dep_prices_B.get(key, 0) for key in dep_prices.keys()}"
   ]
  },
  {
   "cell_type": "code",
   "execution_count": null,
   "id": "ae6dd24b",
   "metadata": {},
   "outputs": [],
   "source": [
    "# tendance départementale\n",
    "average_dep = folium.Map(location=[46.232192999999995, 2.209666999999996], zoom_start=5)\n",
    "\n",
    "folium.Choropleth(\n",
    "    geo_data=departements,\n",
    "    name=\"choropleth\",\n",
    "    data=dep_prices,\n",
    "    key_on=\"feature.properties.code\",\n",
    "    fill_color=\"YlOrRd\",\n",
    "    nan_fill_color=\"White\", #Use white color if there is no data available for the departements\n",
    "    fill_opacity=0.7,\n",
    "    line_opacity=0.2,\n",
    "    legend_name=\"Diesel prices in France departements\", #title of the legend\n",
    "    highlight=True,\n",
    "    line_color='black'\n",
    ").add_to(average_dep)\n",
    "\n",
    "folium.LayerControl().add_to(average_dep)\n",
    "\n",
    "average_dep"
   ]
  },
  {
   "cell_type": "code",
   "execution_count": null,
   "id": "7c326e22",
   "metadata": {},
   "outputs": [],
   "source": [
    "# ajout des flèches de variations\n",
    "for i in range (0, len(departements[\"features\"])):\n",
    "    if departements[\"features\"][i].geometry.type == 'Polygon':\n",
    "        box_str = str(departements[\"features\"][i].geometry)\n",
    "        box = json.loads(box_str)\n",
    "        center = centroid(box)\n",
    "        loc = [center['coordinates'][1], center['coordinates'][0]]\n",
    "        code_p = departements[\"features\"][i][\"properties\"][\"code\"]\n",
    "        if code_p in variations_dep:\n",
    "            pop = f'CP:{code_p}</br>{round(variations_dep[code_p], 4)}'\n",
    "            if variations_dep[code_p] < 0:\n",
    "                folium.Marker(location = loc,\n",
    "                                  popup = pop,\n",
    "                                  icon = folium.features.CustomIcon('icon/down.png',icon_size=(12,12))).add_to(average_dep)\n",
    "            elif 0 < variations_dep[code_p] <= max(variations_dep.values())/1.5:\n",
    "                folium.Marker(location = loc,\n",
    "                                  popup = pop,\n",
    "                                  icon = folium.features.CustomIcon('icon/up_1.png',icon_size=(12,12))).add_to(average_dep)\n",
    "            elif max(variations_dep.values())/1.5 < variations_dep[code_p] <= max(variations_dep.values()):\n",
    "                folium.Marker(location = loc,\n",
    "                                  popup = pop,\n",
    "                                  icon = folium.features.CustomIcon('icon/up_2.png',icon_size=(12,12))).add_to(average_dep)\n",
    "            else:\n",
    "                folium.Marker(location = loc,\n",
    "                                  popup = f'CP:{code_p}',\n",
    "                                  icon = folium.features.CustomIcon('icon/equal.png',icon_size=(16,16))).add_to(average_dep)\n",
    "                \n",
    "average_dep"
   ]
  }
 ],
 "metadata": {
  "kernelspec": {
   "display_name": "Python 3",
   "language": "python",
   "name": "python3"
  },
  "language_info": {
   "codemirror_mode": {
    "name": "ipython",
    "version": 3
   },
   "file_extension": ".py",
   "mimetype": "text/x-python",
   "name": "python",
   "nbconvert_exporter": "python",
   "pygments_lexer": "ipython3",
   "version": "3.9.4"
  }
 },
 "nbformat": 4,
 "nbformat_minor": 5
}
