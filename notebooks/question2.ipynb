{
 "cells": [
  {
   "cell_type": "code",
   "execution_count": null,
   "id": "75d9f0de",
   "metadata": {},
   "outputs": [],
   "source": [
    "import folium\n",
    "import DownloadData as DD\n",
    "import DataSorting as DS\n",
    "import json\n",
    "import geojson\n",
    "from urllib.request import urlopen\n",
    "from geojson_utils import centroid"
   ]
  },
  {
   "cell_type": "code",
   "execution_count": null,
   "id": "f9f4bc9c",
   "metadata": {},
   "outputs": [],
   "source": [
    "with urlopen('https://raw.githubusercontent.com/gregoiredavid/france-geojson/master/cantons.geojson') as f:\n",
    "    stations = geojson.load(f)"
   ]
  },
  {
   "cell_type": "code",
   "execution_count": null,
   "id": "9b73f906",
   "metadata": {},
   "outputs": [],
   "source": [
    "# récupération des données sur les stations-service\n",
    "DD.get_ten_Mins_Data()\n",
    "DD.get_dailyData()\n",
    "\n",
    "# on récupère le J-5 pour observer la variation \n",
    "chaine = DD.get_chaine()\n",
    "\n",
    "# calcul des prix\n",
    "st_prices = DS.DictCantons(\"PrixCarburants_instantane.xml\")\n",
    "st_prices_B = DS.DictCantons(\"PrixCarburants_quotidien_\" + chaine + \".xml\")\n",
    "\n",
    "# calcul de la variation\n"
   ]
  },
  {
   "cell_type": "code",
   "execution_count": null,
   "id": "8c86eae2",
   "metadata": {},
   "outputs": [],
   "source": []
  }
 ],
 "metadata": {
  "kernelspec": {
   "display_name": "Python 3",
   "language": "python",
   "name": "python3"
  },
  "language_info": {
   "codemirror_mode": {
    "name": "ipython",
    "version": 3
   },
   "file_extension": ".py",
   "mimetype": "text/x-python",
   "name": "python",
   "nbconvert_exporter": "python",
   "pygments_lexer": "ipython3",
   "version": "3.9.4"
  }
 },
 "nbformat": 4,
 "nbformat_minor": 5
}
