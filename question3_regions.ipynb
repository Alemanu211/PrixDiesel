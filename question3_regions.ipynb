{
 "cells": [
  {
   "cell_type": "code",
   "execution_count": null,
   "id": "69806070",
   "metadata": {},
   "outputs": [],
   "source": [
    "import folium\n",
    "import DownloadData as DD\n",
    "import DataSorting as DS\n",
    "import json\n",
    "import geojson\n",
    "from urllib.request import urlopen\n",
    "from geojson_utils import centroid"
   ]
  },
  {
   "cell_type": "code",
   "execution_count": null,
   "id": "5f058edb",
   "metadata": {},
   "outputs": [],
   "source": [
    "# récupération des contours régionaux\n",
    "with urlopen('https://raw.githubusercontent.com/gregoiredavid/france-geojson/master/regions-version-simplifiee.geojson') as f:\n",
    "    regions = geojson.load(f)"
   ]
  },
  {
   "cell_type": "code",
   "execution_count": null,
   "id": "05d91ef7",
   "metadata": {},
   "outputs": [],
   "source": [
    "# récupération des données sur les stations-service\n",
    "DD.get_ten_Mins_Data()\n",
    "DD.get_dailyData()\n",
    "\n",
    "# on récupère le J-5 pour observer la variation \n",
    "chaine = DD.get_chaine()\n",
    "\n",
    "# calcul des prix moyen pour les régions/départements/cantons\n",
    "reg_prices = DS.DictRegions(\"PrixCarburants_instantane.xml\")\n",
    "reg_prices_B = DS.DictRegions(\"PrixCarburants_quotidien_\" + chaine + \".xml\")\n",
    "\n",
    "# calcul des variations\n",
    "variations_reg = {key: reg_prices[key] - reg_prices_B.get(key, 0) for key in reg_prices.keys()}"
   ]
  },
  {
   "cell_type": "code",
   "execution_count": null,
   "id": "26396c26",
   "metadata": {},
   "outputs": [],
   "source": [
    "# tendance régionale\n",
    "average_reg = folium.Map(location=[46.232192999999995, 2.209666999999996], zoom_start=5)\n",
    "\n",
    "folium.Choropleth(\n",
    "    geo_data=regions,\n",
    "    name=\"choropleth\",\n",
    "    data=reg_prices,\n",
    "    key_on=\"feature.properties.nom\",\n",
    "    fill_color=\"YlOrRd\",\n",
    "    nan_fill_color=\"White\", #Use white color if there is no data available for the departements\n",
    "    fill_opacity=0.7,\n",
    "    line_opacity=0.2,\n",
    "    legend_name=\"Diesel prices in France regions\", #title of the legend\n",
    "    highlight=True,\n",
    "    line_color='black'\n",
    ").add_to(average_reg)\n",
    "\n",
    "folium.LayerControl().add_to(average_reg)\n",
    "\n",
    "average_reg"
   ]
  },
  {
   "cell_type": "code",
   "execution_count": null,
   "id": "b47315b3",
   "metadata": {},
   "outputs": [],
   "source": [
    "# ajout des flèches de variations\n",
    "for i in range (0, len(regions[\"features\"])):\n",
    "    if regions[\"features\"][i].geometry.type == 'Polygon':\n",
    "        box_str = str(regions[\"features\"][i].geometry)\n",
    "        box = json.loads(box_str)\n",
    "        center = centroid(box)\n",
    "        loc = [center['coordinates'][1], center['coordinates'][0]]\n",
    "        nom_r = regions[\"features\"][i][\"properties\"][\"nom\"]\n",
    "        if nom_r in variations_reg:\n",
    "            pop = f'{nom_r}</br>{round(variations_reg[nom_r], 4)}'\n",
    "            if variations_reg[nom_r] < 0:\n",
    "                folium.Marker(location = loc,\n",
    "                                  popup = pop,\n",
    "                                  icon = folium.features.CustomIcon('icon/down.png',icon_size=(12,12))).add_to(average_reg)\n",
    "            elif 0 < variations_reg[nom_r] <= max(variations_reg.values())/1.5:\n",
    "                folium.Marker(location = loc,\n",
    "                                  popup = pop,\n",
    "                                  icon = folium.features.CustomIcon('icon/up_1.png',icon_size=(12,12))).add_to(average_reg)\n",
    "            elif max(variations_reg.values())/1.5 < variations_reg[nom_r] <= max(variations_reg.values()):\n",
    "                folium.Marker(location = loc,\n",
    "                                  popup = pop,\n",
    "                                  icon = folium.features.CustomIcon('icon/up_2.png',icon_size=(12,12))).add_to(average_reg)\n",
    "            else:\n",
    "                folium.Marker(location = loc,\n",
    "                                  popup = nom_r,\n",
    "                                  icon = folium.features.CustomIcon('icon/equal.png',icon_size=(16,16))).add_to(average_reg)\n",
    "                \n",
    "average_reg"
   ]
  }
 ],
 "metadata": {
  "kernelspec": {
   "display_name": "Python 3",
   "language": "python",
   "name": "python3"
  },
  "language_info": {
   "codemirror_mode": {
    "name": "ipython",
    "version": 3
   },
   "file_extension": ".py",
   "mimetype": "text/x-python",
   "name": "python",
   "nbconvert_exporter": "python",
   "pygments_lexer": "ipython3",
   "version": "3.9.4"
  }
 },
 "nbformat": 4,
 "nbformat_minor": 5
}
