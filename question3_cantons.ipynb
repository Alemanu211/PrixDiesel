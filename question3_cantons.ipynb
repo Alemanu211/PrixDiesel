{
 "cells": [
  {
   "cell_type": "code",
   "execution_count": null,
   "id": "c182d091",
   "metadata": {},
   "outputs": [],
   "source": [
    "import folium\n",
    "import data.DownloadData as DD\n",
    "import data.DataSorting as DS\n",
    "import json\n",
    "import geojson\n",
    "from urllib.request import urlopen\n",
    "from geojson_utils import centroid"
   ]
  },
  {
   "cell_type": "code",
   "execution_count": null,
   "id": "47dfa38d",
   "metadata": {},
   "outputs": [],
   "source": [
    "# récupération des contours cantonaux\n",
    "with urlopen('https://raw.githubusercontent.com/gregoiredavid/france-geojson/master/cantons.geojson') as f:\n",
    "    cantons = geojson.load(f)"
   ]
  },
  {
   "cell_type": "code",
   "execution_count": null,
   "id": "94e42a24",
   "metadata": {},
   "outputs": [],
   "source": [
    "# récupération des données sur les stations-service\n",
    "DD.get_ten_Mins_Data()\n",
    "DD.get_dailyData()\n",
    "\n",
    "# on récupère le J-5 pour observer la variation \n",
    "chaine = DD.get_chaine()\n",
    "\n",
    "# calcul des prix moyen pour les cantons\n",
    "can_prices = DS.DictCantons(\"PrixCarburants_instantane.xml\")\n",
    "can_prices_B = DS.DictCantons(\"PrixCarburants_quotidien_\" + chaine + \".xml\")\n",
    "\n",
    "# calcul des variations\n",
    "variations_can = {key: can_prices[key] - can_prices_B.get(key, 0) for key in can_prices.keys()}"
   ]
  },
  {
   "cell_type": "code",
   "execution_count": null,
   "id": "5b76dfb0",
   "metadata": {},
   "outputs": [],
   "source": [
    "# tendance cantonale\n",
    "average_can = folium.Map(location=[46.232192999999995, 2.209666999999996], zoom_start=5)\n",
    "\n",
    "folium.Choropleth(\n",
    "    geo_data=cantons,\n",
    "    name=\"choropleth\",\n",
    "    data=can_prices,\n",
    "    key_on=\"feature.properties.nom\",\n",
    "    fill_color=\"YlOrRd\",\n",
    "    nan_fill_color=\"White\", #Use white color if there is no data available for the departements\n",
    "    fill_opacity=0.7,\n",
    "    line_opacity=0.2,\n",
    "    legend_name=\"Diesel prices in France cantons\", #title of the legend\n",
    "    highlight=True,\n",
    "    line_color='black'\n",
    ").add_to(average_can)\n",
    "\n",
    "folium.LayerControl().add_to(average_can)\n",
    "\n",
    "average_can"
   ]
  },
  {
   "cell_type": "code",
   "execution_count": null,
   "id": "fce5ba7f",
   "metadata": {},
   "outputs": [],
   "source": [
    "# ajout des flèches de variation\n",
    "for i in range (0, len(cantons[\"features\"])):\n",
    "    if cantons[\"features\"][i].geometry.type == 'Polygon':\n",
    "        box_str = str(cantons[\"features\"][i].geometry)\n",
    "        box = json.loads(box_str)\n",
    "        center = centroid(box)\n",
    "        loc = [center['coordinates'][1], center['coordinates'][0]]\n",
    "        nom_c = cantons[\"features\"][i][\"properties\"][\"nom\"]\n",
    "        if nom_c in variations_can:\n",
    "            pop = f'{nom_c}</br>{round(variations_can[nom_c], 4)}'\n",
    "            if variations_can[nom_c] < 0:\n",
    "                folium.Marker(location = loc,\n",
    "                                  popup = pop,\n",
    "                                  icon = folium.features.CustomIcon('icon/down.png',icon_size=(12,12))).add_to(average_can)\n",
    "            elif 0 < variations_can[nom_c] <= max(variations_can.values())/1.5:\n",
    "                folium.Marker(location = loc,\n",
    "                                  popup = pop,\n",
    "                                  icon = folium.features.CustomIcon('icon/up_1.png',icon_size=(12,12))).add_to(average_can)\n",
    "            elif max(variations_can.values())/1.5 < variations_can[nom_c] <= max(variations_can.values()):\n",
    "                folium.Marker(location = loc,\n",
    "                                  popup = pop,\n",
    "                                  icon = folium.features.CustomIcon('icon/up_2.png',icon_size=(12,12))).add_to(average_can)\n",
    "            else:\n",
    "                folium.Marker(location = loc,\n",
    "                                  popup = nom_c,\n",
    "                                  icon = folium.features.CustomIcon('icon/equal.png',icon_size=(16,16))).add_to(average_can)\n",
    "                \n",
    "average_can"
   ]
  }
 ],
 "metadata": {
  "kernelspec": {
   "display_name": "Python 3",
   "language": "python",
   "name": "python3"
  },
  "language_info": {
   "codemirror_mode": {
    "name": "ipython",
    "version": 3
   },
   "file_extension": ".py",
   "mimetype": "text/x-python",
   "name": "python",
   "nbconvert_exporter": "python",
   "pygments_lexer": "ipython3",
   "version": "3.9.4"
  }
 },
 "nbformat": 4,
 "nbformat_minor": 5
}
