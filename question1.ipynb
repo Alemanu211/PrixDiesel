{
 "cells": [
  {
   "cell_type": "code",
   "execution_count": null,
   "id": "f94ec9c3",
   "metadata": {},
   "outputs": [],
   "source": [
    "import folium\n",
    "import data.DownloadData as DD\n",
    "import data.DataSorting as DS"
   ]
  },
  {
   "cell_type": "code",
   "execution_count": null,
   "id": "79259843",
   "metadata": {},
   "outputs": [],
   "source": [
    "DD.get_ten_Mins_Data()\n",
    "prices = DS.ArbreGlobal(\"PrixCarburants_instantane.xml\")"
   ]
  },
  {
   "cell_type": "code",
   "execution_count": null,
   "id": "e0a7e0fe",
   "metadata": {},
   "outputs": [],
   "source": [
    "map = folium.Map(location=[46.232192999999995, 2.209666999999996], zoom_start=5)\n",
    "\n",
    "for i in range (0, 2001):\n",
    "    if prices[2][i] != None:\n",
    "        folium.Marker(location = [prices[0][i], prices[1][i]],\n",
    "                          popup = f'{prices[2][i]}€',\n",
    "                          icon = folium.features.CustomIcon('point.png',icon_size=(10,10))).add_to(map)\n",
    "\n",
    "map"
   ]
  }
 ],
 "metadata": {
  "kernelspec": {
   "display_name": "Python 3",
   "language": "python",
   "name": "python3"
  },
  "language_info": {
   "codemirror_mode": {
    "name": "ipython",
    "version": 3
   },
   "file_extension": ".py",
   "mimetype": "text/x-python",
   "name": "python",
   "nbconvert_exporter": "python",
   "pygments_lexer": "ipython3",
   "version": "3.9.4"
  }
 },
 "nbformat": 4,
 "nbformat_minor": 5
}
