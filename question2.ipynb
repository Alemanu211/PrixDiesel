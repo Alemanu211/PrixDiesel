{
 "cells": [
  {
   "cell_type": "code",
   "execution_count": null,
   "id": "1d98ab0d",
   "metadata": {},
   "outputs": [],
   "source": [
    "import folium\n",
    "import data.DownloadData as DD\n",
    "import data.DataSorting as DS\n",
    "import json\n",
    "import geojson\n",
    "from urllib.request import urlopen\n",
    "from geojson_utils import centroid"
   ]
  },
  {
   "cell_type": "code",
   "execution_count": null,
   "id": "344f5799",
   "metadata": {},
   "outputs": [],
   "source": [
    "with urlopen('https://raw.githubusercontent.com/gregoiredavid/france-geojson/master/cantons.geojson') as f:\n",
    "    stations = geojson.load(f)"
   ]
  },
  {
   "cell_type": "code",
   "execution_count": null,
   "id": "0f807ad9",
   "metadata": {},
   "outputs": [],
   "source": [
    "# récupération des données sur les stations-service\n",
    "DD.get_ten_Mins_Data()\n",
    "DD.get_dailyData()\n",
    "\n",
    "# on récupère le J-5 pour observer la variation \n",
    "chaine = DD.get_chaine()\n",
    "\n",
    "# calcul des prix\n",
    "st_prices = DS.DictCantons(\"PrixCarburants_instantane.xml\")\n",
    "st_prices_B = DS.DictCantons(\"PrixCarburants_quotidien_\" + chaine + \".xml\")\n",
    "\n",
    "# calcul de la variation\n",
    "variations = {key: st_prices[key] - st_prices_B.get(key, 0) for key in st_prices.keys()}"
   ]
  },
  {
   "cell_type": "code",
   "execution_count": null,
   "id": "2e9ecc43",
   "metadata": {},
   "outputs": [],
   "source": [
    "s = folium.Map(location=[46.232192999999995, 2.209666999999996], zoom_start=5)\n",
    "\n",
    "for i in range (0, len(stations[\"features\"])):\n",
    "    if stations[\"features\"][i].geometry.type == 'Polygon':\n",
    "        box_str = str(stations[\"features\"][i].geometry)\n",
    "        box = json.loads(box_str)\n",
    "        center = centroid(box)\n",
    "        loc = [center['coordinates'][1], center['coordinates'][0]]\n",
    "        nom_v = stations[\"features\"][i][\"properties\"][\"nom\"]\n",
    "        if nom_v in variations:\n",
    "            if variations[nom_v] < 0:\n",
    "                folium.Marker(location = loc,\n",
    "                                  popup = f'{nom_v}</br>{round(variations[nom_v], 4)}',\n",
    "                                  icon = folium.features.CustomIcon('down.png',icon_size=(12,12))).add_to(s)\n",
    "            elif 0 < variations[nom_v] <= max(variations.values())/12:\n",
    "                folium.Marker(location = loc,\n",
    "                                  popup = f'{nom_v}</br>+{round(variations[nom_v], 4)}',\n",
    "                                  icon = folium.features.CustomIcon('up_1.png',icon_size=(12,12))).add_to(s)\n",
    "            elif max(variations.values())/12 < variations[nom_v] <= max(variations.values()):\n",
    "                folium.Marker(location = loc,\n",
    "                                  popup = f'{nom_v}</br>+{round(variations[nom_v], 4)}',\n",
    "                                  icon = folium.features.CustomIcon('up_2.png',icon_size=(12,12))).add_to(s)\n",
    "            else:\n",
    "                folium.Marker(location = loc,\n",
    "                                  popup = nom_v,\n",
    "                                  icon = folium.features.CustomIcon('equal.png',icon_size=(16,16))).add_to(s)\n",
    "\n",
    "s"
   ]
  }
 ],
 "metadata": {
  "kernelspec": {
   "display_name": "Python 3",
   "language": "python",
   "name": "python3"
  },
  "language_info": {
   "codemirror_mode": {
    "name": "ipython",
    "version": 3
   },
   "file_extension": ".py",
   "mimetype": "text/x-python",
   "name": "python",
   "nbconvert_exporter": "python",
   "pygments_lexer": "ipython3",
   "version": "3.9.4"
  }
 },
 "nbformat": 4,
 "nbformat_minor": 5
}
