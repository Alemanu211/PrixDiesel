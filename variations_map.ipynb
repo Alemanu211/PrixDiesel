{
 "cells": [
  {
   "cell_type": "code",
   "execution_count": 1,
   "id": "75d29f7c",
   "metadata": {},
   "outputs": [],
   "source": [
    "import folium\n",
    "import DownloadData as DD\n",
    "import DataSorting as DS\n",
    "import json\n",
    "import geojson\n",
    "from urllib.request import urlopen\n",
    "from geojson_utils import centroid"
   ]
  },
  {
   "cell_type": "code",
   "execution_count": 51,
   "id": "975a33e1",
   "metadata": {
    "scrolled": true
   },
   "outputs": [],
   "source": [
    "with urlopen('https://raw.githubusercontent.com/gregoiredavid/france-geojson/master/cantons.geojson') as f:\n",
    "    stations = geojson.load(f)"
   ]
  },
  {
   "cell_type": "code",
   "execution_count": null,
   "id": "b69cb0df",
   "metadata": {},
   "outputs": [],
   "source": [
    "DD.get_ten_Mins_Data()\n",
    "DD.get_dailyData()\n",
    "st_prices = DS.DictCantons(\"PrixCarburants_instantane.xml\")\n",
    "chaine = DD.get_chaine()\n",
    "#Dictionnaires prix (Instantané)\n",
    "st_prices_B = DS.DictCantons(\"PrixCarburants_quotidien_\" + chaine + \".xml\")"
   ]
  },
  {
   "cell_type": "code",
   "execution_count": 39,
   "id": "9b24fbf4",
   "metadata": {},
   "outputs": [],
   "source": [
    "variations = {key: st_prices[key] - st_prices_B.get(key, 0) for key in st_prices.keys()}"
   ]
  },
  {
   "cell_type": "code",
   "execution_count": null,
   "id": "d9c45d3c",
   "metadata": {},
   "outputs": [],
   "source": [
    "t = folium.Map(location=[46.232192999999995, 2.209666999999996], zoom_start=5)\n",
    "\n",
    "for i in range (0, len(stations[\"features\"])):\n",
    "    if stations[\"features\"][i].geometry.type == 'Polygon':\n",
    "        box_str = str(stations[\"features\"][i].geometry)\n",
    "        box = json.loads(box_str)\n",
    "        center = centroid(box)\n",
    "        nom_v = stations[\"features\"][i][\"properties\"][\"nom\"]\n",
    "        if nom_v in variations:\n",
    "            if variations[nom_v] < 0:\n",
    "                folium.Marker(location = [center['coordinates'][1], center['coordinates'][0]],\n",
    "                                  popup = f'{nom_v}</br>{round(variations[nom_v], 3)}',\n",
    "                                  icon = folium.features.CustomIcon('down.png',icon_size=(15,15))).add_to(t)\n",
    "            elif variations[nom_v] == 0:\n",
    "                folium.Marker(location = [center['coordinates'][1], center['coordinates'][0]],\n",
    "                                  popup = f'{nom_v}</br>{round(variations[nom_v], 3)}',\n",
    "                                  icon = folium.features.CustomIcon('equal.png',icon_size=(15,15))).add_to(t)\n",
    "            else:\n",
    "                folium.Marker(location = [center['coordinates'][1], center['coordinates'][0]],\n",
    "                                  popup = f'{nom_v}</br>+{round(variations[nom_v], 3)}',\n",
    "                                  icon = folium.features.CustomIcon('up.png',icon_size=(15,15))).add_to(t)\n",
    "\n",
    "t"
   ]
  }
 ],
 "metadata": {
  "kernelspec": {
   "display_name": "Python 3",
   "language": "python",
   "name": "python3"
  },
  "language_info": {
   "codemirror_mode": {
    "name": "ipython",
    "version": 3
   },
   "file_extension": ".py",
   "mimetype": "text/x-python",
   "name": "python",
   "nbconvert_exporter": "python",
   "pygments_lexer": "ipython3",
   "version": "3.8.8"
  }
 },
 "nbformat": 4,
 "nbformat_minor": 5
}
